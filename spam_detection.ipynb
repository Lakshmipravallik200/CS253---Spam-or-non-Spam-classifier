{
  "nbformat": 4,
  "nbformat_minor": 0,
  "metadata": {
    "colab": {
      "name": "spam_detection",
      "provenance": [],
      "collapsed_sections": []
    },
    "kernelspec": {
      "name": "python3",
      "display_name": "Python 3"
    },
    "language_info": {
      "name": "python"
    }
  },
  "cells": [
    {
      "cell_type": "markdown",
      "source": [
        "# Assignment: Classification\n",
        "\n",
        "Classification refers to categorizing the given data into classes. For example,\n",
        "- Given an image of hand-written character, identifying the character (multi-class classification)\n",
        "- Given an image, annotating it with all the objects present in the image (multi-label classification)\n",
        "- Classifying an email as spam or non-spam (binary classification)\n",
        "- Classifying a tumor as benign or malignant and so on\n",
        "\n",
        "In this assignment, we will be building a classifier to classify emails as spam or non-spam. We will be using the Kaggle dataset [Spam or Not Spam Dataset](https://www.kaggle.com/datasets/ozlerhakan/spam-or-not-spam-dataset?resource=download) for this task. \n",
        "\n",
        "**Note**: You cannot load any libraries other than the mentioned ones.\n",
        "\n",
        "\n"
      ],
      "metadata": {
        "id": "BKCrcukdE8Bb"
      }
    },
    {
      "cell_type": "markdown",
      "source": [
        "Data pre-processing\n",
        "The first step in every machine learning algorithm is to process the raw data in some meaningful representations. We will be using the [Bag-of-Words](https://towardsdatascience.com/a-simple-explanation-of-the-bag-of-words-model-b88fc4f4971) representation to process the text. It comprises of following steps:\n",
        "\n",
        "- Process emails line-by-line to extract all the words.\n",
        "- Replace extracted words by their stem (root) word. This is known as stemming and lematization.\n",
        "- Remove stop words like and, or, is, am, and so on.\n",
        "- Assign a unique index to each word. This forms the vocabulary.\n",
        "- Represent each email as a binary vector of length equal to the size of the vocabulary such that the $i^{th}$ element of the vector is 1 iff the $i^th$ word is present in the email.\n",
        "\n",
        "Here we provide you with the function signature along with the expected functionality. You are expected to complete them accordingly. "
      ],
      "metadata": {
        "id": "Irp6f7_2crfu"
      }
    },
    {
      "cell_type": "code",
      "source": [
        "\n",
        "import numpy as np\n",
        "from nltk.stem import PorterStemmer\n",
        "import nltk\n",
        "from nltk.corpus import stopwords\n",
        "from nltk.tokenize import word_tokenize\n",
        "from sklearn.feature_extraction.text import CountVectorizer\n",
        "\n",
        "# takes an email as an argument\n",
        "# read email line-by-line and extract all the words\n",
        "# return list of extracted words\n",
        "def read_email(email):\n",
        "  words=email.split(' ')\n",
        "  return words\n",
        "  \n",
        "# takes a list of words as an argument\n",
        "# replace each word by their stem word\n",
        "# return list of stem words\n",
        "def stemming(processed):\n",
        "  stem_words=[]\n",
        "  ps=nltk.PorterStemmer()\n",
        "  for x in processed:\n",
        "    s=''\n",
        "    for term in x.split():\n",
        "      s=s+ps.stem(term)+' '\n",
        "    stem_words.append(s)\n",
        "  return stem_words\n",
        "\n",
        "# takes a list of stem-words as an argument\n",
        "# remove stop words\n",
        "# return list of stem words after removing stop words\n",
        "def remove_stop_words(email):\n",
        "  stem_no_stop_words=[]\n",
        "  ss=[]\n",
        "  for i in email:\n",
        "    processed=i.replace(r'[^\\w\\d\\s]',' ')\n",
        "    processed=processed.replace(r'\\s+',' ')\n",
        "    stem_no_stop_words.append(processed.replace(r'^\\s+|\\s+?$','').lower())\n",
        "  stop_words=set(stopwords.words('english'))\n",
        "  for x in stem_no_stop_words:\n",
        "    s=''\n",
        "    for term in x.split():\n",
        "      if term not in stop_words:\n",
        "        s=s+(term)+' '\n",
        "    ss.append(s)\n",
        "  return ss\n",
        "\n",
        "# takes a list of stem-words as an argument\n",
        "# add new words to the vocabulary and assign a unique index to them\n",
        "# returns new vocabulary\n",
        "def build_vocabulary(final_processed):\n",
        "  all_words=[]\n",
        "  for message in final_processed:\n",
        "    words=word_tokenize(message)\n",
        "    for w in words:\n",
        "      all_words.append(w)\n",
        "  all_words=nltk.FreqDist(all_words)\n",
        "  return list(all_words.keys())[:1500]\n",
        "\n",
        "# takes a list of stem-words and vocabulary as an argument\n",
        "# returns bow representation\n",
        "def get_bow(message,word_features):\n",
        "  words=word_tokenize(message)\n",
        "  features={}\n",
        "  for word in word_features:\n",
        "    features[word]=(word in words)\n",
        "  return features\n",
        "\n",
        "# read the entire dataset\n",
        "# convert emails to bow and maintain their labels\n",
        "# call function text_to_bow()\n",
        "from csv import reader\n",
        "def read_data(filename):\n",
        "  file = open(filename,\"r\") # Open file in read mode\n",
        "  lines = reader(file)\n",
        "  data = list(lines)\n",
        "  return data\n",
        "\n",
        "\n",
        "  #messages_bow = CountVectorizer(analyzer=process_text).fit_transform(df['email'])\n",
        "    \n",
        "    \n",
        "\n"
      ],
      "metadata": {
        "id": "wIlTOyyPn-mN"
      },
      "execution_count": 1,
      "outputs": []
    },
    {
      "cell_type": "code",
      "source": [
        "# Path of dataset\n",
        "import sys\n",
        "import csv\n",
        " \n",
        "csv.field_size_limit(sys.maxsize)\n",
        "filename = \"/content/spam_or_not_spam.csv\"\n",
        "data = read_data(filename)\n",
        "email=[]\n",
        "label=[]\n",
        "for i in range(1,len(data)):\n",
        "  if i==2967:\n",
        "    continue \n",
        "  else:\n",
        "    email.append(data[i][0])\n",
        "    label.append(data[i][1])\n",
        "def get_label():\n",
        "  return label\n",
        "nltk.download('stopwords')\n",
        "processed=remove_stop_words(email)\n",
        "final_processed=stemming(processed)\n",
        "nltk.download('punkt')\n",
        "word_features=build_vocabulary(final_processed)"
      ],
      "metadata": {
        "colab": {
          "base_uri": "https://localhost:8080/"
        },
        "id": "Nv6JvBN_SBya",
        "outputId": "3653ad20-b6b4-4673-a2aa-a9b8a7266456"
      },
      "execution_count": null,
      "outputs": [
        {
          "output_type": "stream",
          "name": "stdout",
          "text": [
            "[nltk_data] Downloading package stopwords to /root/nltk_data...\n",
            "[nltk_data]   Unzipping corpora/stopwords.zip.\n",
            "[nltk_data] Downloading package punkt to /root/nltk_data...\n",
            "[nltk_data]   Unzipping tokenizers/punkt.zip.\n"
          ]
        }
      ]
    },
    {
      "cell_type": "code",
      "source": [
        "messages=list(zip(final_processed,label))\n",
        "#defined seed for reproducability\n",
        "seed=1\n",
        "np.random.seed=seed \n",
        "np.random.shuffle(messages)\n",
        "feature_sets=[(get_bow(t,word_features),l) for (t,l) in messages]\n",
        "\n"
      ],
      "metadata": {
        "id": "claDb-xmNxj_"
      },
      "execution_count": null,
      "outputs": []
    },
    {
      "cell_type": "code",
      "source": [
        "from google.colab import drive\n",
        "drive.mount('/content/drive')"
      ],
      "metadata": {
        "colab": {
          "base_uri": "https://localhost:8080/"
        },
        "id": "DLvgDXKD2tEp",
        "outputId": "1ae6216e-1584-4d12-f60e-3e4a40551547"
      },
      "execution_count": null,
      "outputs": [
        {
          "output_type": "stream",
          "name": "stdout",
          "text": [
            "Mounted at /content/drive\n"
          ]
        }
      ]
    },
    {
      "cell_type": "markdown",
      "source": [
        "### Data Visualization\n",
        "Let's understand the data distribution\n",
        "- Visualize the frequency of word-occurence in all the emails(spam + non-spam)\n",
        "- Visualize the freuency of word-occurence for spam and non-spam emails separately"
      ],
      "metadata": {
        "id": "d0cDiGt6nkPY"
      }
    },
    {
      "cell_type": "code",
      "source": [
        "import matplotlib.pyplot as plt\n",
        "\n",
        "# visuallze data distribution\n",
        "\n",
        "\n",
        "def data_vis(label):\n",
        "  left = [1, 2]\n",
        " \n",
        "  # heights of bars\n",
        "  \n",
        "  height = [label.count('1'),label.count('0')]\n",
        "  \n",
        "  # labels for bars\n",
        "  tick_label = ['spam','ham']\n",
        "  \n",
        "  # plotting a bar chart\n",
        "  plt.bar(left, height, tick_label = tick_label,\n",
        "          width = 0.8, color = ['red', 'green'])\n",
        "  \n",
        "  # naming the x-axis\n",
        "  plt.xlabel('x - axis')\n",
        "  # naming the y-axis\n",
        "  plt.ylabel('y - axis')\n",
        "  # plot title\n",
        "  plt.title('My bar chart!')\n",
        "  \n",
        "  # function to show the plot\n",
        "  plt.show()\n",
        "label=get_label()\n",
        "data_vis(label)"
      ],
      "metadata": {
        "id": "4vJLcTxDLZsh",
        "colab": {
          "base_uri": "https://localhost:8080/",
          "height": 295
        },
        "outputId": "b24528cf-fb4b-4602-fb9b-e18756487cec"
      },
      "execution_count": null,
      "outputs": [
        {
          "output_type": "display_data",
          "data": {
            "text/plain": [
              "<Figure size 432x288 with 1 Axes>"
            ],
            "image/png": "[encoded data removed]"
          },
          "metadata": {
            "needs_background": "light"
          }
        }
      ]
    },
    {
      "cell_type": "markdown",
      "source": [
        "### Learn a Classifier\n",
        "Split the dataset randomly in the ratio 80:20 as the training and test dataset. Use only training dataset to learn the classifier. No test data should be used during training. Test data will only be used during evaluation.\n",
        "\n",
        "Now let us try to use ML algorithms to classify emails as spam or non-spam. You are supposed to implement [SVM](https://scikit-learn.org/stable/modules/svm.html) and [K-Nearest Neighbour](https://scikit-learn.org/stable/modules/generated/sklearn.neighbors.KNeighborsClassifier.html) algorithm available in scikit-learn using the same training dataset for both."
      ],
      "metadata": {
        "id": "LPq-3nTzGcdX"
      }
    },
    {
      "cell_type": "code",
      "source": [
        "\n",
        "from sklearn.neighbors import KNeighborsClassifier\n",
        "from nltk.classify.scikitlearn import SklearnClassifier\n",
        "from sklearn.svm import SVC\n",
        "from sklearn import model_selection \n",
        "\n",
        "from sklearn.metrics import classification_report\n",
        "# split dataset\n",
        "def split(data):\n",
        "  train_data,test_data=model_selection.train_test_split(feature_sets,test_size=0.25,random_state=seed)\n",
        "  return train_data, test_data\n",
        "\n",
        "\n",
        "# learn a SVM model\n",
        "# use the model to make prediction\n",
        "# return the model predictions on train and test dataset\n",
        "def svm_classifier(train_data,test_data):\n",
        "  nltk_model=SklearnClassifier(SVC())\n",
        "  nltk_model.train(train_data)\n",
        "  tf,labe=zip(*test_data)\n",
        "  prediction=nltk_model.classify_many(tf)\n",
        "  return classification_report(labe,prediction)\n",
        "\n",
        "# implement k-NN algorithm\n",
        "# use the model to make prediction\n",
        "# return the model predictions on train and test dataset\n",
        "def knn_classifier(train_data,test_data):\n",
        "  nltk_model=SklearnClassifier(KNeighborsClassifier())\n",
        "  nltk_model.train(train_data)\n",
        "  tf,labe=zip(*test_data)\n",
        "  prediction=nltk_model.classify_many(tf)\n",
        "  return classification_report(labe,prediction)\n",
        "\n",
        "train_data, test_data = split(data)\n",
        "print(len(train_data))\n",
        "print(len(test_data))\n",
        "\n",
        "print(svm_classifier(train_data, test_data))\n",
        "print(knn_classifier(train_data, test_data))\n"
      ],
      "metadata": {
        "id": "IMpuaPCKHxwh",
        "colab": {
          "base_uri": "https://localhost:8080/"
        },
        "outputId": "7645c340-2e7e-4535-f8c3-15c1bbe1f0ec"
      },
      "execution_count": null,
      "outputs": [
        {
          "output_type": "stream",
          "name": "stdout",
          "text": [
            "2249\n",
            "750\n",
            "              precision    recall  f1-score   support\n",
            "\n",
            "           0       0.97      1.00      0.99       638\n",
            "           1       1.00      0.84      0.91       112\n",
            "\n",
            "    accuracy                           0.98       750\n",
            "   macro avg       0.99      0.92      0.95       750\n",
            "weighted avg       0.98      0.98      0.98       750\n",
            "\n",
            "              precision    recall  f1-score   support\n",
            "\n",
            "           0       0.96      0.85      0.90       638\n",
            "           1       0.48      0.79      0.59       112\n",
            "\n",
            "    accuracy                           0.84       750\n",
            "   macro avg       0.72      0.82      0.75       750\n",
            "weighted avg       0.89      0.84      0.85       750\n",
            "\n"
          ]
        }
      ]
    },
    {
      "cell_type": "markdown",
      "source": [
        "### Model Evaluation\n",
        "Compare the SVM and k-NN model using metrics\n",
        "- Accuracy\n",
        "- [AUC score](https://scikit-learn.org/stable/modules/generated/sklearn.metrics.auc.html)\n"
      ],
      "metadata": {
        "id": "SlCwYvluHqQz"
      }
    },
    {
      "cell_type": "code",
      "source": [
        "\n",
        "from sklearn.metrics import accuracy_score\n",
        "\n",
        "from nltk.classify.scikitlearn import SklearnClassifier\n",
        "# compute accuracy \n",
        "def compute_accuracy(train_data,test_data):\n",
        "  \n",
        "  nltk_model=SklearnClassifier(KNeighborsClassifier())\n",
        "  nltk_model.train(train_data)\n",
        "  sltk_model=SklearnClassifier(SVC())\n",
        "  sltk_model.train(train_data)\n",
        "  accuracy=nltk.classify.accuracy(nltk_model,test_data)*100\n",
        "  accuracy1=nltk.classify.accuracy(sltk_model,test_data)*100\n",
        "  return accuracy1,accuracy\n",
        "\n",
        "# compute AUC score \n",
        "def compute_auc(train_data,test_data):\n",
        "\n",
        "  nltk_model=SklearnClassifier(KNeighborsClassifier())\n",
        "  nltk_model.train(train_data)\n",
        "  tf,labe=zip(*test_data)\n",
        "  prediction=nltk_model.classify_many(tf)\n",
        "  sltk_model=SklearnClassifier(SVC())\n",
        "  sltk_model.train(train_data)\n",
        "  tf1,labe1=zip(*test_data)\n",
        "  prediction1=sltk_model.classify_many(tf1)\n",
        "  return accuracy_score(labe1,prediction1),accuracy_score(labe,prediction)\n",
        "  \n",
        "  \n",
        "print(compute_accuracy(train_data,test_data))\n",
        "print(compute_auc(train_data,test_data))\n",
        "# write code to print train and test accuracy and AUC score of SVM and k-NN classifier"
      ],
      "metadata": {
        "id": "X3KmcTpqKbGI",
        "colab": {
          "base_uri": "https://localhost:8080/"
        },
        "outputId": "d79b75bb-b1ae-4898-aae1-e140727cb9f6"
      },
      "execution_count": null,
      "outputs": [
        {
          "output_type": "stream",
          "name": "stdout",
          "text": [
            "(97.6, 84.0)\n",
            "(0.976, 0.84)\n"
          ]
        }
      ]
    }
  ]
}